{
 "cells": [
  {
   "cell_type": "code",
   "execution_count": 1,
   "metadata": {},
   "outputs": [],
   "source": [
    "import numpy as np\n",
    "import matplotlib.pyplot as plt\n",
    "import glob\n",
    "import os\n",
    "import seaborn as sns\n",
    "from skimage import io\n",
    "%matplotlib inline"
   ]
  },
  {
   "cell_type": "code",
   "execution_count": 2,
   "metadata": {},
   "outputs": [],
   "source": [
    "#Sample Image Read\n",
    "image_path = 'Dataset/10253/0/10253_idx5_x1001_y1001_class0.png'\n",
    "image = io.imread(image_path)\n",
    "\n",
    "#Image shape\n",
    "im_shape = np.shape(image)"
   ]
  },
  {
   "cell_type": "code",
   "execution_count": 3,
   "metadata": {},
   "outputs": [],
   "source": [
    "#Calculates number of files in all subfolders \n",
    "num_files = sum([len(files) for r, d, files in os.walk('Dataset')]) "
   ]
  },
  {
   "cell_type": "code",
   "execution_count": 4,
   "metadata": {},
   "outputs": [],
   "source": [
    "#    ----    Load Data    ----\n",
    "\n",
    "\n",
    "# num_files = 277524 #Run this line if number of files already computed to avoid recomputing\n",
    "\n",
    "#Cap samples at given number to save memory\n",
    "cap = 40000 #Cap number (if not using all data)\n",
    "\n",
    "num_files = cap\n",
    "\n",
    "#Pre-allocate image array for speed\n",
    "all_images = np.zeros((num_files,im_shape[0],im_shape[1],im_shape[2]))\n",
    "labels = np.zeros((num_files)) #Class labels\n",
    "\n",
    "avoid_array = np.zeros((num_files)) #Makes note of images which were ignored (due to wrong size)\n",
    "\n",
    "rootdir = 'Dataset/'\n",
    "im_num = 0\n",
    "\n",
    "for subdir, dirs, files in os.walk(rootdir):\n",
    "    for ifile, file in enumerate(files):\n",
    "        \n",
    "        if im_num < cap:\n",
    "            #Gets file path\n",
    "            image_path = os.path.join(subdir, file)\n",
    "\n",
    "            #Adds class label to lavels array\n",
    "            labels[im_num] = int(image_path.split('.png')[0][-1])\n",
    "\n",
    "            #Reads image and adds to images matrix\n",
    "            image = io.imread(image_path)\n",
    "\n",
    "            if np.shape(image) != (50,50,3):\n",
    "                avoid_array[im_num] = 1\n",
    "            else:\n",
    "                #Scale image\n",
    "                image = image / 255.0\n",
    "                all_images[im_num] = image\n",
    "\n",
    "            im_num += 1\n",
    "        \n",
    "#Remove avoid arrays\n",
    "all_images = np.delete(all_images,np.nonzero(avoid_array),0)\n",
    "labels = np.delete(labels,np.nonzero(avoid_array),0)"
   ]
  },
  {
   "cell_type": "code",
   "execution_count": 5,
   "metadata": {},
   "outputs": [],
   "source": [
    "from sklearn.model_selection import train_test_split\n",
    "\n",
    "X_train, X_test, y_train, y_test = train_test_split(all_images, labels, test_size = 0.2)"
   ]
  },
  {
   "cell_type": "code",
   "execution_count": 26,
   "metadata": {},
   "outputs": [
    {
     "name": "stdout",
     "output_type": "stream",
     "text": [
      "Train on 31956 samples, validate on 7989 samples\n",
      "Epoch 1/1000\n",
      "31956/31956 [==============================] - 30s 929us/sample - loss: 0.3895 - accuracy: 0.8262 - val_loss: 0.3697 - val_accuracy: 0.8395\n",
      "Epoch 2/1000\n",
      "31956/31956 [==============================] - 29s 906us/sample - loss: 0.3574 - accuracy: 0.8436 - val_loss: 0.3343 - val_accuracy: 0.8510\n",
      "Epoch 3/1000\n",
      "31956/31956 [==============================] - 29s 907us/sample - loss: 0.3480 - accuracy: 0.8484 - val_loss: 0.3415 - val_accuracy: 0.8442\n",
      "Epoch 4/1000\n",
      "31956/31956 [==============================] - 30s 926us/sample - loss: 0.3400 - accuracy: 0.8529 - val_loss: 0.3269 - val_accuracy: 0.8562\n",
      "Epoch 5/1000\n",
      "31956/31956 [==============================] - 30s 926us/sample - loss: 0.3347 - accuracy: 0.8552 - val_loss: 0.3312 - val_accuracy: 0.8577\n",
      "Epoch 6/1000\n",
      "31956/31956 [==============================] - 29s 921us/sample - loss: 0.3320 - accuracy: 0.8569 - val_loss: 0.3525 - val_accuracy: 0.8420\n",
      "Epoch 7/1000\n",
      "31956/31956 [==============================] - 29s 902us/sample - loss: 0.3278 - accuracy: 0.8579 - val_loss: 0.3229 - val_accuracy: 0.8596\n",
      "Epoch 8/1000\n",
      "31956/31956 [==============================] - 29s 917us/sample - loss: 0.3234 - accuracy: 0.8585 - val_loss: 0.3232 - val_accuracy: 0.8579\n",
      "Epoch 9/1000\n",
      "31956/31956 [==============================] - 29s 921us/sample - loss: 0.3195 - accuracy: 0.8597 - val_loss: 0.3705 - val_accuracy: 0.8430\n",
      "Epoch 10/1000\n",
      "31956/31956 [==============================] - 29s 908us/sample - loss: 0.3155 - accuracy: 0.8633 - val_loss: 0.3343 - val_accuracy: 0.8558\n",
      "Epoch 11/1000\n",
      "31956/31956 [==============================] - 29s 916us/sample - loss: 0.3119 - accuracy: 0.8649 - val_loss: 0.3211 - val_accuracy: 0.8569\n",
      "Epoch 12/1000\n",
      "31956/31956 [==============================] - 29s 920us/sample - loss: 0.3083 - accuracy: 0.8669 - val_loss: 0.3236 - val_accuracy: 0.8583\n"
     ]
    },
    {
     "data": {
      "text/plain": [
       "<tensorflow.python.keras.callbacks.History at 0x13b45419588>"
      ]
     },
     "execution_count": 26,
     "metadata": {},
     "output_type": "execute_result"
    }
   ],
   "source": [
    "#Build initial model\n",
    "from tensorflow.keras.models import Sequential\n",
    "from tensorflow.keras.layers import Dense, Dropout, Flatten, Conv2D, MaxPool2D\n",
    "from tensorflow.keras.optimizers import RMSprop,Adam\n",
    "from tensorflow.keras.callbacks import EarlyStopping, ModelCheckpoint\n",
    "\n",
    "#Early stopping\n",
    "es = EarlyStopping(monitor='val_accuracy', mode='max', verbose=0, patience=5)\n",
    "\n",
    "#Save best model\n",
    "mc = ModelCheckpoint('best_basic_model.h5', monitor='val_accuracy', mode='max', verbose=0, save_best_only=True)\n",
    "\n",
    "#Initialize model\n",
    "model = Sequential()\n",
    "\n",
    "# --- Layers ---\n",
    "#1st Conv Layer\n",
    "model.add(Conv2D(16, kernel_size=(3,3), activation ='relu', input_shape=im_shape))\n",
    "model.add(MaxPool2D(pool_size=(2,2)))\n",
    "# #2nd Conv Layer\n",
    "# model.add(Conv2D(32, kernel_size=(3,3), activation ='relu'))\n",
    "# model.add(MaxPool2D(pool_size=(2,2)))\n",
    "# #3rd Conv Layer\n",
    "# model.add(Conv2D(64, kernel_size=(3,3), activation ='relu'))\n",
    "# model.add(MaxPool2D(pool_size=(2,2)))\n",
    "#Fully-connected\n",
    "model.add(Flatten())\n",
    "model.add(Dense(64, activation='relu'))\n",
    "#Activation Layer\n",
    "model.add(Dense(1, activation='sigmoid'))\n",
    "\n",
    "\n",
    "#Compile model \n",
    "model.compile(loss='binary_crossentropy',optimizer=RMSprop(lr=0.0001),metrics=['accuracy'])\n",
    "\n",
    "#Compile model \n",
    "# model.compile(loss='binary_crossentropy',optimizer='adam',metrics=['accuracy'])\n",
    "\n",
    "#Train model\n",
    "model.fit(X_train, y_train, validation_data=(X_test, y_test), epochs=1000, callbacks=[es,mc])"
   ]
  },
  {
   "cell_type": "code",
   "execution_count": 27,
   "metadata": {},
   "outputs": [
    {
     "name": "stdout",
     "output_type": "stream",
     "text": [
      "7989/7989 [==============================] - 2s 300us/sample - loss: 0.3236 - accuracy: 0.8583\n",
      "              precision    recall  f1-score   support\n",
      "\n",
      "         0.0       0.90      0.92      0.91      6149\n",
      "         1.0       0.71      0.65      0.68      1840\n",
      "\n",
      "    accuracy                           0.86      7989\n",
      "   macro avg       0.80      0.78      0.79      7989\n",
      "weighted avg       0.85      0.86      0.86      7989\n",
      "\n"
     ]
    }
   ],
   "source": [
    "from sklearn.metrics import classification_report\n",
    "\n",
    "def score_model(model,X_test,y_test):\n",
    "\n",
    "    #Test model accuracy\n",
    "    test_loss, test_acc = model.evaluate(X_test,y_test)\n",
    "\n",
    "    predictions = model.predict(X_test)\n",
    "    predictions[predictions > 0.5] = 1\n",
    "    predictions[predictions <= 0.5] = 0\n",
    "\n",
    "    print(classification_report(y_test, predictions))\n",
    "    \n",
    "    return predictions\n",
    "\n",
    "predictions = score_model(model,X_test,y_test)"
   ]
  },
  {
   "cell_type": "code",
   "execution_count": 28,
   "metadata": {},
   "outputs": [
    {
     "name": "stdout",
     "output_type": "stream",
     "text": [
      "7989/7989 [==============================] - 2s 286us/sample - loss: 0.3229 - accuracy: 0.8596\n",
      "              precision    recall  f1-score   support\n",
      "\n",
      "         0.0       0.89      0.93      0.91      6149\n",
      "         1.0       0.72      0.64      0.68      1840\n",
      "\n",
      "    accuracy                           0.86      7989\n",
      "   macro avg       0.81      0.78      0.79      7989\n",
      "weighted avg       0.85      0.86      0.86      7989\n",
      "\n"
     ]
    }
   ],
   "source": [
    "from tensorflow.keras.models import load_model\n",
    "\n",
    "# load the saved model\n",
    "saved_model = load_model('best_basic_model.h5')\n",
    "\n",
    "#Test Model Accuracy\n",
    "saved_predictions = score_model(saved_model,X_test,y_test)"
   ]
  },
  {
   "cell_type": "code",
   "execution_count": 10,
   "metadata": {},
   "outputs": [
    {
     "name": "stdout",
     "output_type": "stream",
     "text": [
      "Train on 31956 samples, validate on 7989 samples\n",
      "Epoch 1/8\n",
      "31956/31956 [==============================] - 75s 2ms/sample - loss: 0.3426 - accuracy: 0.8544 - val_loss: 0.3442 - val_accuracy: 0.8437\n",
      "Epoch 2/8\n",
      "31956/31956 [==============================] - 74s 2ms/sample - loss: 0.3106 - accuracy: 0.8667 - val_loss: 1.3321 - val_accuracy: 0.3335\n",
      "Epoch 3/8\n",
      "31956/31956 [==============================] - 75s 2ms/sample - loss: 0.2951 - accuracy: 0.8720 - val_loss: 1.2887 - val_accuracy: 0.7699\n",
      "Epoch 4/8\n",
      "31956/31956 [==============================] - 74s 2ms/sample - loss: 0.2846 - accuracy: 0.8797 - val_loss: 0.3938 - val_accuracy: 0.8305\n",
      "Epoch 5/8\n",
      "31956/31956 [==============================] - 74s 2ms/sample - loss: 0.2726 - accuracy: 0.8828 - val_loss: 0.3505 - val_accuracy: 0.8407\n",
      "Epoch 6/8\n",
      "31956/31956 [==============================] - 75s 2ms/sample - loss: 0.2517 - accuracy: 0.8939 - val_loss: 1.2936 - val_accuracy: 0.5673\n"
     ]
    },
    {
     "data": {
      "text/plain": [
       "<tensorflow.python.keras.callbacks.History at 0x13b3e7c5fc8>"
      ]
     },
     "execution_count": 10,
     "metadata": {},
     "output_type": "execute_result"
    }
   ],
   "source": [
    "#Apply batch normalization to gauge effects on performance\n",
    "from tensorflow.keras.layers import BatchNormalization\n",
    "\n",
    "#Early stopping\n",
    "es = EarlyStopping(monitor='val_accuracy', mode='max', verbose=0, patience=5)\n",
    "\n",
    "#Initialize model\n",
    "model_BN = Sequential()\n",
    "\n",
    "# --- Layers ---\n",
    "#1st Conv Layer\n",
    "model_BN.add(Conv2D(16, kernel_size=(3,3), activation ='relu', input_shape=im_shape))\n",
    "model_BN.add(BatchNormalization())\n",
    "model_BN.add(MaxPool2D(pool_size=(2,2)))\n",
    "#2nd Conv Layer\n",
    "model_BN.add(Conv2D(32, kernel_size=(3,3), activation ='relu'))\n",
    "model_BN.add(BatchNormalization())\n",
    "model_BN.add(MaxPool2D(pool_size=(2,2)))\n",
    "#3rd Conv Layer\n",
    "model_BN.add(Conv2D(64, kernel_size=(3,3), activation ='relu'))\n",
    "model_BN.add(BatchNormalization())\n",
    "model_BN.add(MaxPool2D(pool_size=(2,2)))\n",
    "#Fully-connected\n",
    "model_BN.add(Flatten())\n",
    "model_BN.add(Dense(256, activation='relu'))\n",
    "#Activation Layer\n",
    "model_BN.add(Dense(1, activation='sigmoid'))\n",
    "\n",
    "#Compile model\n",
    "model_BN.compile(loss='binary_crossentropy',optimizer='adam',metrics=['accuracy'])\n",
    "\n",
    "#Train model\n",
    "model_BN.fit(X_train, y_train, validation_data=(X_test, y_test), epochs=8, callbacks=[es])"
   ]
  },
  {
   "cell_type": "code",
   "execution_count": 22,
   "metadata": {},
   "outputs": [
    {
     "name": "stdout",
     "output_type": "stream",
     "text": [
      "7989/7989 [==============================] - 3s 387us/sample - loss: 1.2936 - accuracy: 0.5673\n",
      "              precision    recall  f1-score   support\n",
      "\n",
      "         0.0       0.95      0.46      0.62      6149\n",
      "         1.0       0.34      0.91      0.49      1840\n",
      "\n",
      "    accuracy                           0.57      7989\n",
      "   macro avg       0.64      0.69      0.56      7989\n",
      "weighted avg       0.81      0.57      0.59      7989\n",
      "\n"
     ]
    }
   ],
   "source": [
    "#Test Model Accuracy\n",
    "BN_predictions = score_model(model_BN,X_test,y_test)"
   ]
  },
  {
   "cell_type": "code",
   "execution_count": 33,
   "metadata": {},
   "outputs": [
    {
     "name": "stdout",
     "output_type": "stream",
     "text": [
      "Train on 31956 samples, validate on 7989 samples\n",
      "Epoch 1/1000\n",
      "31956/31956 [==============================] - 89s 3ms/sample - loss: 0.3842 - accuracy: 0.8340 - val_loss: 0.3312 - val_accuracy: 0.8583\n",
      "Epoch 2/1000\n",
      "31956/31956 [==============================] - 89s 3ms/sample - loss: 0.3413 - accuracy: 0.8567 - val_loss: 0.3301 - val_accuracy: 0.8623\n",
      "Epoch 3/1000\n",
      "31956/31956 [==============================] - 89s 3ms/sample - loss: 0.3343 - accuracy: 0.8604 - val_loss: 0.3186 - val_accuracy: 0.8642\n",
      "Epoch 4/1000\n",
      "31956/31956 [==============================] - 88s 3ms/sample - loss: 0.3233 - accuracy: 0.8631 - val_loss: 0.3096 - val_accuracy: 0.8668\n",
      "Epoch 5/1000\n",
      "31956/31956 [==============================] - 89s 3ms/sample - loss: 0.3191 - accuracy: 0.8660 - val_loss: 0.3342 - val_accuracy: 0.8592\n",
      "Epoch 6/1000\n",
      "31956/31956 [==============================] - 89s 3ms/sample - loss: 0.3120 - accuracy: 0.8671 - val_loss: 0.3269 - val_accuracy: 0.8687\n",
      "Epoch 7/1000\n",
      "31956/31956 [==============================] - 89s 3ms/sample - loss: 0.3099 - accuracy: 0.8723 - val_loss: 0.3104 - val_accuracy: 0.8691\n",
      "Epoch 8/1000\n",
      "31956/31956 [==============================] - 89s 3ms/sample - loss: 0.3021 - accuracy: 0.8736 - val_loss: 0.2955 - val_accuracy: 0.8751\n",
      "Epoch 9/1000\n",
      "31956/31956 [==============================] - 90s 3ms/sample - loss: 0.2983 - accuracy: 0.8760 - val_loss: 0.2993 - val_accuracy: 0.8722\n",
      "Epoch 10/1000\n",
      "31956/31956 [==============================] - 88s 3ms/sample - loss: 0.2909 - accuracy: 0.8781 - val_loss: 0.3132 - val_accuracy: 0.8701\n",
      "Epoch 11/1000\n",
      "31956/31956 [==============================] - 88s 3ms/sample - loss: 0.2852 - accuracy: 0.8822 - val_loss: 0.2979 - val_accuracy: 0.8766\n",
      "Epoch 12/1000\n",
      "31956/31956 [==============================] - 87s 3ms/sample - loss: 0.2770 - accuracy: 0.8874 - val_loss: 0.3249 - val_accuracy: 0.8716\n",
      "Epoch 13/1000\n",
      "31956/31956 [==============================] - 89s 3ms/sample - loss: 0.2685 - accuracy: 0.8893 - val_loss: 0.3068 - val_accuracy: 0.8722\n",
      "Epoch 14/1000\n",
      "31956/31956 [==============================] - 88s 3ms/sample - loss: 0.2615 - accuracy: 0.8948 - val_loss: 0.3448 - val_accuracy: 0.8686\n",
      "Epoch 15/1000\n",
      "31956/31956 [==============================] - 89s 3ms/sample - loss: 0.2503 - accuracy: 0.8999 - val_loss: 0.3222 - val_accuracy: 0.8699\n",
      "Epoch 16/1000\n",
      "31956/31956 [==============================] - 89s 3ms/sample - loss: 0.2394 - accuracy: 0.9047 - val_loss: 0.3306 - val_accuracy: 0.8758\n",
      "Epoch 17/1000\n",
      "31956/31956 [==============================] - 88s 3ms/sample - loss: 0.2315 - accuracy: 0.9090 - val_loss: 0.3563 - val_accuracy: 0.8667\n",
      "Epoch 18/1000\n",
      "31956/31956 [==============================] - 89s 3ms/sample - loss: 0.2214 - accuracy: 0.9140 - val_loss: 0.3559 - val_accuracy: 0.8701\n",
      "Epoch 19/1000\n",
      "31956/31956 [==============================] - 88s 3ms/sample - loss: 0.2100 - accuracy: 0.9189 - val_loss: 0.4037 - val_accuracy: 0.8656\n",
      "Epoch 20/1000\n",
      "31956/31956 [==============================] - 89s 3ms/sample - loss: 0.2011 - accuracy: 0.9226 - val_loss: 0.4233 - val_accuracy: 0.8657\n",
      "Epoch 21/1000\n",
      "31956/31956 [==============================] - 89s 3ms/sample - loss: 0.1961 - accuracy: 0.9247 - val_loss: 0.3887 - val_accuracy: 0.8641\n",
      "Epoch 22/1000\n",
      "31956/31956 [==============================] - 89s 3ms/sample - loss: 0.1870 - accuracy: 0.9295 - val_loss: 0.4174 - val_accuracy: 0.8647\n",
      "Epoch 23/1000\n",
      "31956/31956 [==============================] - 89s 3ms/sample - loss: 0.1747 - accuracy: 0.9333 - val_loss: 0.4786 - val_accuracy: 0.8604\n",
      "Epoch 24/1000\n",
      "31956/31956 [==============================] - 88s 3ms/sample - loss: 0.1653 - accuracy: 0.9364 - val_loss: 0.4995 - val_accuracy: 0.8632\n",
      "Epoch 25/1000\n",
      "31956/31956 [==============================] - 89s 3ms/sample - loss: 0.1564 - accuracy: 0.9420 - val_loss: 0.4836 - val_accuracy: 0.8654\n",
      "Epoch 26/1000\n",
      "31956/31956 [==============================] - 89s 3ms/sample - loss: 0.1523 - accuracy: 0.9438 - val_loss: 0.5111 - val_accuracy: 0.8602\n",
      "Epoch 27/1000\n",
      "31956/31956 [==============================] - 89s 3ms/sample - loss: 0.1439 - accuracy: 0.9470 - val_loss: 0.5271 - val_accuracy: 0.8589\n",
      "Epoch 28/1000\n",
      "31956/31956 [==============================] - 89s 3ms/sample - loss: 0.1377 - accuracy: 0.9479 - val_loss: 0.5450 - val_accuracy: 0.8606\n",
      "Epoch 29/1000\n",
      "31956/31956 [==============================] - 89s 3ms/sample - loss: 0.1321 - accuracy: 0.9516 - val_loss: 0.5529 - val_accuracy: 0.8604\n",
      "Epoch 30/1000\n",
      "31956/31956 [==============================] - 89s 3ms/sample - loss: 0.1250 - accuracy: 0.9552 - val_loss: 0.5464 - val_accuracy: 0.8631\n",
      "Epoch 31/1000\n",
      "31956/31956 [==============================] - 90s 3ms/sample - loss: 0.1193 - accuracy: 0.9566 - val_loss: 0.6484 - val_accuracy: 0.8604\n"
     ]
    },
    {
     "data": {
      "text/plain": [
       "<tensorflow.python.keras.callbacks.History at 0x13b4b2d82c8>"
      ]
     },
     "execution_count": 33,
     "metadata": {},
     "output_type": "execute_result"
    }
   ],
   "source": [
    "# Model based on Dabeer et al., 2019 (Cancer diagnosis paper)\n",
    "\n",
    "#Early stopping\n",
    "es = EarlyStopping(monitor='val_accuracy', mode='max', verbose=0, patience=20)\n",
    "\n",
    "#Save best model\n",
    "mc = ModelCheckpoint('best_lit_model.h5', monitor='val_accuracy', mode='max', verbose=0, save_best_only=True)\n",
    "\n",
    "#Initialize model\n",
    "model_lit = Sequential()\n",
    "\n",
    "# --- Layers ---\n",
    "#1st Conv Layer\n",
    "model_lit.add(Conv2D(32, kernel_size=(5,5), activation ='relu', padding='same', input_shape=im_shape))\n",
    "model_lit.add(MaxPool2D(pool_size=(3,3)))\n",
    "#2nd Conv Layer\n",
    "model_lit.add(Conv2D(64, kernel_size=(5,5), activation ='relu', padding='same', input_shape=im_shape))\n",
    "model_lit.add(MaxPool2D(pool_size=(3,3)))\n",
    "#3rd Conv Layer\n",
    "model_lit.add(Conv2D(128, kernel_size=(5,5), activation ='relu', padding='same', input_shape=im_shape))\n",
    "model_lit.add(MaxPool2D(pool_size=(3,3)))\n",
    "#Fully-connected Layers\n",
    "model_lit.add(Flatten())\n",
    "model_lit.add(Dense(64, activation='relu'))\n",
    "model_lit.add(Dense(64, activation='relu'))\n",
    "#Activation Layer\n",
    "model_lit.add(Dense(1, activation='sigmoid'))\n",
    "\n",
    "\n",
    "#No loss function given in paper so using binary crossentropy\n",
    "model_lit.compile(loss='binary_crossentropy',optimizer='adam',metrics=['accuracy'])\n",
    "\n",
    "#Train model\n",
    "model_lit.fit(X_train, y_train, validation_data=(X_test, y_test), epochs=1000, callbacks=[es,mc])"
   ]
  },
  {
   "cell_type": "code",
   "execution_count": 39,
   "metadata": {},
   "outputs": [
    {
     "data": {
      "text/plain": [
       "<matplotlib.legend.Legend at 0x13b4b424b88>"
      ]
     },
     "execution_count": 39,
     "metadata": {},
     "output_type": "execute_result"
    },
    {
     "data": {
      "image/png": "[encoded data removed]",
      "text/plain": [
       "<Figure size 432x288 with 1 Axes>"
      ]
     },
     "metadata": {
      "needs_background": "light"
     },
     "output_type": "display_data"
    }
   ],
   "source": [
    "# Plot loss function over epochs\n",
    "plt.plot(model_lit.history.history['loss'])\n",
    "plt.plot(model_lit.history.history['val_loss'])\n",
    "plt.title('Model loss')\n",
    "plt.ylabel('Loss')\n",
    "plt.xlabel('Epoch')\n",
    "plt.legend(['Train', 'Test'], loc='upper left')"
   ]
  },
  {
   "cell_type": "code",
   "execution_count": 40,
   "metadata": {},
   "outputs": [
    {
     "data": {
      "text/plain": [
       "<matplotlib.legend.Legend at 0x13b4b4bbb48>"
      ]
     },
     "execution_count": 40,
     "metadata": {},
     "output_type": "execute_result"
    },
    {
     "data": {
      "image/png": "[encoded data removed]",
      "text/plain": [
       "<Figure size 432x288 with 1 Axes>"
      ]
     },
     "metadata": {
      "needs_background": "light"
     },
     "output_type": "display_data"
    }
   ],
   "source": [
    "# Plot accuracy over epochs\n",
    "plt.plot(model_lit.history.history['accuracy'])\n",
    "plt.plot(model_lit.history.history['val_accuracy'])\n",
    "plt.title('Model Accuracy')\n",
    "plt.ylabel('Accuracy')\n",
    "plt.xlabel('Epoch')\n",
    "plt.legend(['Train', 'Test'], loc='upper left')"
   ]
  },
  {
   "cell_type": "code",
   "execution_count": 34,
   "metadata": {},
   "outputs": [
    {
     "name": "stdout",
     "output_type": "stream",
     "text": [
      "7989/7989 [==============================] - 6s 725us/sample - loss: 0.6484 - accuracy: 0.8604\n",
      "              precision    recall  f1-score   support\n",
      "\n",
      "         0.0       0.89      0.93      0.91      6149\n",
      "         1.0       0.73      0.63      0.68      1840\n",
      "\n",
      "    accuracy                           0.86      7989\n",
      "   macro avg       0.81      0.78      0.79      7989\n",
      "weighted avg       0.86      0.86      0.86      7989\n",
      "\n"
     ]
    }
   ],
   "source": [
    "#Test Final Model Accuracy\n",
    "lit_predictions = score_model(model_lit,X_test,y_test)"
   ]
  },
  {
   "cell_type": "code",
   "execution_count": 35,
   "metadata": {},
   "outputs": [
    {
     "name": "stdout",
     "output_type": "stream",
     "text": [
      "7989/7989 [==============================] - 6s 726us/sample - loss: 0.2979 - accuracy: 0.8766\n",
      "              precision    recall  f1-score   support\n",
      "\n",
      "         0.0       0.90      0.95      0.92      6149\n",
      "         1.0       0.78      0.64      0.71      1840\n",
      "\n",
      "    accuracy                           0.88      7989\n",
      "   macro avg       0.84      0.79      0.81      7989\n",
      "weighted avg       0.87      0.88      0.87      7989\n",
      "\n"
     ]
    }
   ],
   "source": [
    "#Test best lit model - this comes from epoch 11 and therefore was fit prior to the overfitting that followed after\n",
    "\n",
    "# load the saved model\n",
    "saved_lit_model = load_model('best_lit_model.h5')\n",
    "\n",
    "#Test Model Accuracy\n",
    "saved_lit_predictions = score_model(saved_lit_model,X_test,y_test)"
   ]
  },
  {
   "cell_type": "code",
   "execution_count": null,
   "metadata": {},
   "outputs": [],
   "source": []
  }
 ],
 "metadata": {
  "kernelspec": {
   "display_name": "Python 3",
   "language": "python",
   "name": "python3"
  },
  "language_info": {
   "codemirror_mode": {
    "name": "ipython",
    "version": 3
   },
   "file_extension": ".py",
   "mimetype": "text/x-python",
   "name": "python",
   "nbconvert_exporter": "python",
   "pygments_lexer": "ipython3",
   "version": "3.7.9"
  }
 },
 "nbformat": 4,
 "nbformat_minor": 2
}
