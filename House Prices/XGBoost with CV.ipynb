{
 "cells": [
  {
   "cell_type": "code",
   "execution_count": 1,
   "metadata": {},
   "outputs": [],
   "source": [
    "import pandas as pd\n",
    "import numpy as np\n",
    "import matplotlib.pyplot as plt\n",
    "%matplotlib inline\n",
    "\n",
    "data = pd.read_csv('train.csv')\n",
    "\n",
    "data.set_index('Id',inplace=True)\n",
    "\n",
    "y = data.SalePrice\n",
    "X_train = data.drop('SalePrice',axis=1)"
   ]
  },
  {
   "cell_type": "code",
   "execution_count": 2,
   "metadata": {},
   "outputs": [
    {
     "data": {
      "text/plain": [
       "['MSSubClass',\n",
       " 'LotFrontage',\n",
       " 'LotArea',\n",
       " 'OverallQual',\n",
       " 'OverallCond',\n",
       " 'YearBuilt',\n",
       " 'YearRemodAdd',\n",
       " 'MasVnrArea',\n",
       " 'BsmtFinSF1',\n",
       " 'BsmtFinSF2',\n",
       " 'BsmtUnfSF',\n",
       " 'TotalBsmtSF',\n",
       " '1stFlrSF',\n",
       " '2ndFlrSF',\n",
       " 'LowQualFinSF',\n",
       " 'GrLivArea',\n",
       " 'BsmtFullBath',\n",
       " 'BsmtHalfBath',\n",
       " 'FullBath',\n",
       " 'HalfBath',\n",
       " 'BedroomAbvGr',\n",
       " 'KitchenAbvGr',\n",
       " 'TotRmsAbvGrd',\n",
       " 'Fireplaces',\n",
       " 'GarageYrBlt',\n",
       " 'GarageCars',\n",
       " 'GarageArea',\n",
       " 'WoodDeckSF',\n",
       " 'OpenPorchSF',\n",
       " 'EnclosedPorch',\n",
       " '3SsnPorch',\n",
       " 'ScreenPorch',\n",
       " 'PoolArea',\n",
       " 'MiscVal',\n",
       " 'MoSold',\n",
       " 'YrSold']"
      ]
     },
     "execution_count": 2,
     "metadata": {},
     "output_type": "execute_result"
    }
   ],
   "source": [
    "import seaborn as sns\n",
    "num_cols = list(X_train.select_dtypes(include=np.number).columns)\n",
    "num_cols"
   ]
  },
  {
   "cell_type": "code",
   "execution_count": 3,
   "metadata": {},
   "outputs": [
    {
     "data": {
      "text/plain": [
       "<matplotlib.axes._subplots.AxesSubplot at 0x1a17d11750>"
      ]
     },
     "execution_count": 3,
     "metadata": {},
     "output_type": "execute_result"
    },
    {
     "data": {
      "image/png": "[encoded data removed]",
      "text/plain": [
       "<Figure size 432x288 with 1 Axes>"
      ]
     },
     "metadata": {
      "needs_background": "light"
     },
     "output_type": "display_data"
    }
   ],
   "source": [
    "X_train['BsmtFinSF1'].plot(kind='hist',bins=50)\n",
    "# np.log(X_train['GrLivArea']).plot(kind='hist',bins=50)"
   ]
  },
  {
   "cell_type": "code",
   "execution_count": 4,
   "metadata": {},
   "outputs": [],
   "source": [
    "# #Write function to convert vars with lots of zeros to nans to impute later\n",
    "# zero_val_cols = ['MasVnrArea','BsmtFinSF1','BsmtFinSF2','BsmtUnfSF',\n",
    "#              'TotalBsmtSF','2ndFlrSF','LowQualFinSF','GarageArea',\n",
    "#             'WoodDeckSF','OpenPorchSF','EnclosedPorch','3SsnPorch',\n",
    "#             'ScreenPorch',]\n",
    "\n",
    "# #Convert zeros to NaN to impute down the line\n",
    "# for col in zero_val_cols:\n",
    "#     X_train[col] = X_train[col].apply(lambda x:np.nan if (x == 0) else x)"
   ]
  },
  {
   "cell_type": "code",
   "execution_count": 5,
   "metadata": {},
   "outputs": [],
   "source": [
    "#Log transform certain columns\n",
    "log_trans_cols = ['LotArea','1stFlrSF','GrLivArea']\n",
    "\n",
    "for col in log_trans_cols:\n",
    "    X_train[col] = np.log(X_train[col])"
   ]
  },
  {
   "cell_type": "code",
   "execution_count": 6,
   "metadata": {},
   "outputs": [],
   "source": [
    "rank_cols = ['ExterQual','ExterCond','BsmtQual','BsmtCond',\n",
    "                      'HeatingQC','KitchenQual','FireplaceQu','GarageQual',\n",
    "                     'GarageCond',]\n",
    "\n",
    "def rank_imputer(value):\n",
    "    '''\n",
    "    Convert cols with 5 ranks\n",
    "    '''\n",
    "    rank_map = {'ex':5,'gd':4,'ta':3,'fa':2,'po':1,np.nan:np.nan}\n",
    "    try:\n",
    "        return rank_map[value.lower()]\n",
    "    except:\n",
    "        return rank_map[value]"
   ]
  },
  {
   "cell_type": "code",
   "execution_count": 7,
   "metadata": {},
   "outputs": [],
   "source": [
    "def bsmt_rank_imputer(value):\n",
    "    '''\n",
    "    Convert bsmtfintype columns\n",
    "    '''\n",
    "    rank_map = {'glq':6,'alq':5,'blq':4,\n",
    "                'rec':3,'lwq':2,'unf':1,\n",
    "                np.nan:np.nan}\n",
    "    try:\n",
    "        return rank_map[value.lower()]\n",
    "    except:\n",
    "        return rank_map[value]"
   ]
  },
  {
   "cell_type": "code",
   "execution_count": 8,
   "metadata": {},
   "outputs": [],
   "source": [
    "bsmt_cols = ['BsmtFinType1','BsmtFinType2']\n",
    "#Convert basement columns\n",
    "for col in bsmt_cols:\n",
    "    X_train[col] = X_train[col].apply(bsmt_rank_imputer)"
   ]
  },
  {
   "cell_type": "code",
   "execution_count": 9,
   "metadata": {},
   "outputs": [],
   "source": [
    "#Convert 5 rank columns\n",
    "for col in rank_cols:\n",
    "    X_train[col] = X_train[col].apply(rank_imputer)"
   ]
  },
  {
   "cell_type": "code",
   "execution_count": 10,
   "metadata": {},
   "outputs": [],
   "source": [
    "# from sklearn.preprocessing import OneHotEncoder\n",
    "\n",
    "# #One-Hot Encode MSSubClass as values not ordinal\n",
    "# MSSC_enc = OneHotEncoder(handle_unknown='ignore',sparse=False)\n",
    "\n",
    "# MS_OH = pd.DataFrame(MSSC_enc.fit_transform(X_train[['MSSubClass']]))\n",
    "\n",
    "# MS_OH.index = X_train.index\n",
    "# X_train.drop('MSSubClass',axis=1,inplace=True)\n",
    "\n",
    "# X_train = pd.concat([X_train, MS_OH], axis=1)"
   ]
  },
  {
   "cell_type": "code",
   "execution_count": 11,
   "metadata": {},
   "outputs": [],
   "source": [
    "from sklearn.preprocessing import LabelEncoder\n",
    "\n",
    "#Convert neighborhood column\n",
    "lab_enc = LabelEncoder()\n",
    "X_train['Neighborhood'] = lab_enc.fit_transform(X_train['Neighborhood'])"
   ]
  },
  {
   "cell_type": "code",
   "execution_count": 12,
   "metadata": {},
   "outputs": [],
   "source": [
    "# #Find columns with greater than 90% missing values to drop entirely\n",
    "# drop_cols = [col for col in X_train if \n",
    "#              X_train[col].isnull().sum()/len(X_train[col]) > 0.9]\n",
    "\n",
    "# #Add miscval as useless without MiscFeature\n",
    "# drop_cols.append('MiscVal')\n",
    "\n",
    "# #Drop columns\n",
    "# X_train.drop(drop_cols,axis=1,inplace=True)"
   ]
  },
  {
   "cell_type": "code",
   "execution_count": 13,
   "metadata": {},
   "outputs": [],
   "source": [
    "# #Dropping the outlier rows with Percentiles\n",
    "# upper_lim = X_train['LotArea'].quantile(.95)\n",
    "# X_train.loc[(X_train['LotArea'] < upper_lim), 'LotArea'] = np.nan"
   ]
  },
  {
   "cell_type": "code",
   "execution_count": 14,
   "metadata": {},
   "outputs": [],
   "source": [
    "from sklearn.pipeline import Pipeline\n",
    "from sklearn.impute import SimpleImputer\n",
    "from sklearn.preprocessing import OneHotEncoder\n",
    "from sklearn.compose import ColumnTransformer\n",
    "from sklearn.linear_model import LinearRegression\n",
    "from sklearn.metrics import mean_absolute_error, mean_squared_error\n",
    "\n",
    "cat_cols = [col for col in X_train.columns \n",
    "            if X_train[col].dtype == 'object' and\n",
    "            X_train[col].nunique() <= 20]\n",
    "num_cols = list(X_train.select_dtypes(include=np.number).columns)\n",
    "\n",
    "my_cols = cat_cols + num_cols\n",
    "X_train = X_train[my_cols].copy()\n",
    "\n",
    "#Categorical Imputation\n",
    "cat_imputer = Pipeline(steps = [\n",
    "    ('imp',SimpleImputer(strategy='most_frequent')),\n",
    "    ('OHE',OneHotEncoder(handle_unknown='ignore'))\n",
    "])\n",
    "\n",
    "#Numerical Imputation\n",
    "num_imputer = SimpleImputer(strategy='mean')\n",
    "\n",
    "#Bundled numerical and categorical transformer\n",
    "transformer = ColumnTransformer(transformers = [\n",
    "    ('num',num_imputer,num_cols),\n",
    "    ('cat',cat_imputer,cat_cols)\n",
    "])\n",
    "\n",
    "X_train_xgb = pd.DataFrame(transformer.fit_transform(X_train))"
   ]
  },
  {
   "cell_type": "code",
   "execution_count": 15,
   "metadata": {},
   "outputs": [],
   "source": [
    "from xgboost import XGBRegressor\n",
    "from sklearn.model_selection import cross_val_score, KFold\n",
    "\n",
    "def get_cv_score(n_est,lr):\n",
    "    #XGBoost Regressor (using n_estimators previously decided)\n",
    "    my_model = XGBRegressor(n_estimators=n_est,learning_rate=lr)\n",
    "\n",
    "    # CV model\n",
    "    kfold = KFold(n_splits=5)\n",
    "    results = -1 * cross_val_score(my_model, X_train_xgb, y, \n",
    "                              cv=kfold, scoring='neg_mean_absolute_error',\n",
    "                                  verbose=False)\n",
    "    #Mean Results\n",
    "    return results.mean()"
   ]
  },
  {
   "cell_type": "code",
   "execution_count": 16,
   "metadata": {},
   "outputs": [
    {
     "name": "stderr",
     "output_type": "stream",
     "text": [
      "/Users/morrell53/opt/anaconda3/lib/python3.7/site-packages/xgboost/core.py:587: FutureWarning: Series.base is deprecated and will be removed in a future version\n",
      "  if getattr(data, 'base', None) is not None and \\\n"
     ]
    },
    {
     "name": "stdout",
     "output_type": "stream",
     "text": [
      "[12:59:25] WARNING: src/objective/regression_obj.cu:152: reg:linear is now deprecated in favor of reg:squarederror.\n"
     ]
    },
    {
     "name": "stderr",
     "output_type": "stream",
     "text": [
      "/Users/morrell53/opt/anaconda3/lib/python3.7/site-packages/xgboost/core.py:587: FutureWarning: Series.base is deprecated and will be removed in a future version\n",
      "  if getattr(data, 'base', None) is not None and \\\n"
     ]
    },
    {
     "name": "stdout",
     "output_type": "stream",
     "text": [
      "[12:59:34] WARNING: src/objective/regression_obj.cu:152: reg:linear is now deprecated in favor of reg:squarederror.\n"
     ]
    },
    {
     "name": "stderr",
     "output_type": "stream",
     "text": [
      "/Users/morrell53/opt/anaconda3/lib/python3.7/site-packages/xgboost/core.py:587: FutureWarning: Series.base is deprecated and will be removed in a future version\n",
      "  if getattr(data, 'base', None) is not None and \\\n"
     ]
    },
    {
     "name": "stdout",
     "output_type": "stream",
     "text": [
      "[12:59:44] WARNING: src/objective/regression_obj.cu:152: reg:linear is now deprecated in favor of reg:squarederror.\n"
     ]
    },
    {
     "name": "stderr",
     "output_type": "stream",
     "text": [
      "/Users/morrell53/opt/anaconda3/lib/python3.7/site-packages/xgboost/core.py:587: FutureWarning: Series.base is deprecated and will be removed in a future version\n",
      "  if getattr(data, 'base', None) is not None and \\\n"
     ]
    },
    {
     "name": "stdout",
     "output_type": "stream",
     "text": [
      "[12:59:53] WARNING: src/objective/regression_obj.cu:152: reg:linear is now deprecated in favor of reg:squarederror.\n"
     ]
    },
    {
     "name": "stderr",
     "output_type": "stream",
     "text": [
      "/Users/morrell53/opt/anaconda3/lib/python3.7/site-packages/xgboost/core.py:587: FutureWarning: Series.base is deprecated and will be removed in a future version\n",
      "  if getattr(data, 'base', None) is not None and \\\n"
     ]
    },
    {
     "name": "stdout",
     "output_type": "stream",
     "text": [
      "[13:00:02] WARNING: src/objective/regression_obj.cu:152: reg:linear is now deprecated in favor of reg:squarederror.\n"
     ]
    },
    {
     "data": {
      "text/plain": [
       "15336.955161065925"
      ]
     },
     "execution_count": 16,
     "metadata": {},
     "output_type": "execute_result"
    }
   ],
   "source": [
    "result = get_cv_score(550,0.06)\n",
    "result"
   ]
  },
  {
   "cell_type": "code",
   "execution_count": 17,
   "metadata": {},
   "outputs": [],
   "source": [
    "# #Tries different n estimator values to find most accurate model\n",
    "# nest_vals = [430,440,450,460]\n",
    "# results = dict(zip(nest_vals, [get_cv_score(i,0.06) for i in nest_vals]))"
   ]
  },
  {
   "cell_type": "code",
   "execution_count": 18,
   "metadata": {},
   "outputs": [],
   "source": [
    "# results"
   ]
  },
  {
   "cell_type": "code",
   "execution_count": 19,
   "metadata": {},
   "outputs": [
    {
     "name": "stderr",
     "output_type": "stream",
     "text": [
      "/Users/morrell53/opt/anaconda3/lib/python3.7/site-packages/xgboost/core.py:587: FutureWarning: Series.base is deprecated and will be removed in a future version\n",
      "  if getattr(data, 'base', None) is not None and \\\n",
      "/Users/morrell53/opt/anaconda3/lib/python3.7/site-packages/xgboost/core.py:588: FutureWarning: Series.base is deprecated and will be removed in a future version\n",
      "  data.base is not None and isinstance(data, np.ndarray) \\\n"
     ]
    },
    {
     "name": "stdout",
     "output_type": "stream",
     "text": [
      "[13:00:13] WARNING: src/objective/regression_obj.cu:152: reg:linear is now deprecated in favor of reg:squarederror.\n"
     ]
    },
    {
     "data": {
      "text/plain": [
       "XGBRegressor(base_score=0.5, booster='gbtree', colsample_bylevel=1,\n",
       "             colsample_bynode=1, colsample_bytree=1, gamma=0,\n",
       "             importance_type='gain', learning_rate=0.06, max_delta_step=0,\n",
       "             max_depth=3, min_child_weight=1, missing=None, n_estimators=450,\n",
       "             n_jobs=1, nthread=None, objective='reg:linear', random_state=0,\n",
       "             reg_alpha=0, reg_lambda=1, scale_pos_weight=1, seed=None,\n",
       "             silent=None, subsample=1, verbosity=1)"
      ]
     },
     "execution_count": 19,
     "metadata": {},
     "output_type": "execute_result"
    }
   ],
   "source": [
    "#XGBoost Regressor\n",
    "final_model = XGBRegressor(n_estimators=450,learning_rate=0.06)\n",
    "final_model.fit(X_train_xgb, y,verbose=False)"
   ]
  },
  {
   "cell_type": "code",
   "execution_count": 20,
   "metadata": {},
   "outputs": [],
   "source": [
    "#Load test data\n",
    "test = pd.read_csv('test.csv')\n",
    "\n",
    "test.set_index('Id',inplace=True)\n",
    "\n",
    "#Convert 5 rank columns\n",
    "for col in rank_cols:\n",
    "    test[col] = test[col].apply(rank_imputer)\n",
    "\n",
    "#Convert basement columns\n",
    "for col in bsmt_cols:\n",
    "    test[col] = test[col].apply(bsmt_rank_imputer)\n",
    "    \n",
    "#Convert neighborhood column\n",
    "test['Neighborhood'] = lab_enc.transform(test['Neighborhood'])\n",
    "\n",
    "#Log transform non-normal cols\n",
    "for col in log_trans_cols:\n",
    "    test[col] = np.log(test[col])"
   ]
  },
  {
   "cell_type": "code",
   "execution_count": 21,
   "metadata": {},
   "outputs": [],
   "source": [
    "test = test[my_cols].copy()\n",
    "test_xgb = pd.DataFrame(transformer.transform(test))"
   ]
  },
  {
   "cell_type": "code",
   "execution_count": 22,
   "metadata": {},
   "outputs": [],
   "source": [
    "predictions = final_model.predict(test_xgb)"
   ]
  },
  {
   "cell_type": "code",
   "execution_count": 23,
   "metadata": {},
   "outputs": [],
   "source": [
    "#Save final predictions for submission\n",
    "submission10 = pd.DataFrame(predictions,index=test.index,columns=['SalePrice'])\n",
    "submission10.to_csv(r'XGB_w_FE8.csv',index=True)"
   ]
  },
  {
   "cell_type": "code",
   "execution_count": 24,
   "metadata": {},
   "outputs": [
    {
     "data": {
      "text/html": [
       "<div>\n",
       "<style scoped>\n",
       "    .dataframe tbody tr th:only-of-type {\n",
       "        vertical-align: middle;\n",
       "    }\n",
       "\n",
       "    .dataframe tbody tr th {\n",
       "        vertical-align: top;\n",
       "    }\n",
       "\n",
       "    .dataframe thead th {\n",
       "        text-align: right;\n",
       "    }\n",
       "</style>\n",
       "<table border=\"1\" class=\"dataframe\">\n",
       "  <thead>\n",
       "    <tr style=\"text-align: right;\">\n",
       "      <th></th>\n",
       "      <th>SalePrice</th>\n",
       "    </tr>\n",
       "    <tr>\n",
       "      <th>Id</th>\n",
       "      <th></th>\n",
       "    </tr>\n",
       "  </thead>\n",
       "  <tbody>\n",
       "    <tr>\n",
       "      <td>1461</td>\n",
       "      <td>120134.664062</td>\n",
       "    </tr>\n",
       "    <tr>\n",
       "      <td>1462</td>\n",
       "      <td>163351.093750</td>\n",
       "    </tr>\n",
       "    <tr>\n",
       "      <td>1463</td>\n",
       "      <td>176905.187500</td>\n",
       "    </tr>\n",
       "    <tr>\n",
       "      <td>1464</td>\n",
       "      <td>189799.187500</td>\n",
       "    </tr>\n",
       "    <tr>\n",
       "      <td>1465</td>\n",
       "      <td>187170.406250</td>\n",
       "    </tr>\n",
       "  </tbody>\n",
       "</table>\n",
       "</div>"
      ],
      "text/plain": [
       "          SalePrice\n",
       "Id                 \n",
       "1461  120134.664062\n",
       "1462  163351.093750\n",
       "1463  176905.187500\n",
       "1464  189799.187500\n",
       "1465  187170.406250"
      ]
     },
     "execution_count": 24,
     "metadata": {},
     "output_type": "execute_result"
    }
   ],
   "source": [
    "submission10.head()"
   ]
  },
  {
   "cell_type": "code",
   "execution_count": null,
   "metadata": {},
   "outputs": [],
   "source": []
  }
 ],
 "metadata": {
  "kernelspec": {
   "display_name": "Python 3",
   "language": "python",
   "name": "python3"
  },
  "language_info": {
   "codemirror_mode": {
    "name": "ipython",
    "version": 3
   },
   "file_extension": ".py",
   "mimetype": "text/x-python",
   "name": "python",
   "nbconvert_exporter": "python",
   "pygments_lexer": "ipython3",
   "version": "3.7.4"
  }
 },
 "nbformat": 4,
 "nbformat_minor": 2
}
