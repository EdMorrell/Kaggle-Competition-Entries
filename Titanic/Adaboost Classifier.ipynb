{
 "cells": [
  {
   "cell_type": "code",
   "execution_count": 1,
   "metadata": {},
   "outputs": [],
   "source": [
    "import pandas as pd\n",
    "import matplotlib.pyplot as plt\n",
    "import seaborn as sns\n",
    "import numpy as np\n",
    "\n",
    "%matplotlib inline"
   ]
  },
  {
   "cell_type": "code",
   "execution_count": 2,
   "metadata": {},
   "outputs": [],
   "source": [
    "df = pd.read_csv('ITIM_Format_Train.csv')"
   ]
  },
  {
   "cell_type": "code",
   "execution_count": 3,
   "metadata": {},
   "outputs": [
    {
     "data": {
      "text/html": [
       "<div>\n",
       "<style scoped>\n",
       "    .dataframe tbody tr th:only-of-type {\n",
       "        vertical-align: middle;\n",
       "    }\n",
       "\n",
       "    .dataframe tbody tr th {\n",
       "        vertical-align: top;\n",
       "    }\n",
       "\n",
       "    .dataframe thead th {\n",
       "        text-align: right;\n",
       "    }\n",
       "</style>\n",
       "<table border=\"1\" class=\"dataframe\">\n",
       "  <thead>\n",
       "    <tr style=\"text-align: right;\">\n",
       "      <th></th>\n",
       "      <th>Survived</th>\n",
       "      <th>Pclass</th>\n",
       "      <th>Age</th>\n",
       "      <th>SibSp</th>\n",
       "      <th>Parch</th>\n",
       "      <th>Fare</th>\n",
       "      <th>Titles</th>\n",
       "      <th>Number_Names</th>\n",
       "      <th>Ticket Prefix</th>\n",
       "      <th>male</th>\n",
       "      <th>Q</th>\n",
       "      <th>S</th>\n",
       "    </tr>\n",
       "  </thead>\n",
       "  <tbody>\n",
       "    <tr>\n",
       "      <td>0</td>\n",
       "      <td>0</td>\n",
       "      <td>3</td>\n",
       "      <td>22.0</td>\n",
       "      <td>1</td>\n",
       "      <td>0</td>\n",
       "      <td>7.2500</td>\n",
       "      <td>0</td>\n",
       "      <td>4</td>\n",
       "      <td>1</td>\n",
       "      <td>1</td>\n",
       "      <td>0</td>\n",
       "      <td>1</td>\n",
       "    </tr>\n",
       "    <tr>\n",
       "      <td>1</td>\n",
       "      <td>1</td>\n",
       "      <td>1</td>\n",
       "      <td>38.0</td>\n",
       "      <td>1</td>\n",
       "      <td>0</td>\n",
       "      <td>71.2833</td>\n",
       "      <td>0</td>\n",
       "      <td>7</td>\n",
       "      <td>1</td>\n",
       "      <td>0</td>\n",
       "      <td>0</td>\n",
       "      <td>0</td>\n",
       "    </tr>\n",
       "    <tr>\n",
       "      <td>2</td>\n",
       "      <td>1</td>\n",
       "      <td>3</td>\n",
       "      <td>26.0</td>\n",
       "      <td>0</td>\n",
       "      <td>0</td>\n",
       "      <td>7.9250</td>\n",
       "      <td>0</td>\n",
       "      <td>3</td>\n",
       "      <td>1</td>\n",
       "      <td>0</td>\n",
       "      <td>0</td>\n",
       "      <td>1</td>\n",
       "    </tr>\n",
       "    <tr>\n",
       "      <td>3</td>\n",
       "      <td>1</td>\n",
       "      <td>1</td>\n",
       "      <td>35.0</td>\n",
       "      <td>1</td>\n",
       "      <td>0</td>\n",
       "      <td>53.1000</td>\n",
       "      <td>0</td>\n",
       "      <td>7</td>\n",
       "      <td>0</td>\n",
       "      <td>0</td>\n",
       "      <td>0</td>\n",
       "      <td>1</td>\n",
       "    </tr>\n",
       "    <tr>\n",
       "      <td>4</td>\n",
       "      <td>0</td>\n",
       "      <td>3</td>\n",
       "      <td>35.0</td>\n",
       "      <td>0</td>\n",
       "      <td>0</td>\n",
       "      <td>8.0500</td>\n",
       "      <td>0</td>\n",
       "      <td>4</td>\n",
       "      <td>0</td>\n",
       "      <td>1</td>\n",
       "      <td>0</td>\n",
       "      <td>1</td>\n",
       "    </tr>\n",
       "  </tbody>\n",
       "</table>\n",
       "</div>"
      ],
      "text/plain": [
       "   Survived  Pclass   Age  SibSp  Parch     Fare  Titles  Number_Names  \\\n",
       "0         0       3  22.0      1      0   7.2500       0             4   \n",
       "1         1       1  38.0      1      0  71.2833       0             7   \n",
       "2         1       3  26.0      0      0   7.9250       0             3   \n",
       "3         1       1  35.0      1      0  53.1000       0             7   \n",
       "4         0       3  35.0      0      0   8.0500       0             4   \n",
       "\n",
       "   Ticket Prefix  male  Q  S  \n",
       "0              1     1  0  1  \n",
       "1              1     0  0  0  \n",
       "2              1     0  0  1  \n",
       "3              0     0  0  1  \n",
       "4              0     1  0  1  "
      ]
     },
     "execution_count": 3,
     "metadata": {},
     "output_type": "execute_result"
    }
   ],
   "source": [
    "df.head()"
   ]
  },
  {
   "cell_type": "code",
   "execution_count": 5,
   "metadata": {},
   "outputs": [],
   "source": [
    "from sklearn.model_selection import train_test_split"
   ]
  },
  {
   "cell_type": "code",
   "execution_count": 6,
   "metadata": {},
   "outputs": [],
   "source": [
    "X = df.drop(['Survived'],axis=1)\n",
    "y = df['Survived']\n",
    "\n",
    "X_train, X_test, y_train, y_test = train_test_split(X, y, test_size=0.3)"
   ]
  },
  {
   "cell_type": "code",
   "execution_count": 8,
   "metadata": {},
   "outputs": [],
   "source": [
    "from sklearn.ensemble import AdaBoostClassifier"
   ]
  },
  {
   "cell_type": "code",
   "execution_count": 9,
   "metadata": {},
   "outputs": [
    {
     "data": {
      "text/plain": [
       "AdaBoostClassifier(algorithm='SAMME.R', base_estimator=None, learning_rate=1.0,\n",
       "                   n_estimators=100, random_state=None)"
      ]
     },
     "execution_count": 9,
     "metadata": {},
     "output_type": "execute_result"
    }
   ],
   "source": [
    "clf = AdaBoostClassifier(n_estimators=100)\n",
    "clf.fit(X_train, y_train)"
   ]
  },
  {
   "cell_type": "code",
   "execution_count": 10,
   "metadata": {},
   "outputs": [],
   "source": [
    "predictions = clf.predict(X_test)"
   ]
  },
  {
   "cell_type": "code",
   "execution_count": 11,
   "metadata": {},
   "outputs": [],
   "source": [
    "from sklearn.metrics import classification_report,confusion_matrix"
   ]
  },
  {
   "cell_type": "code",
   "execution_count": 12,
   "metadata": {},
   "outputs": [
    {
     "name": "stdout",
     "output_type": "stream",
     "text": [
      "[[145  21]\n",
      " [ 24  77]]\n",
      "\n",
      "\n",
      "              precision    recall  f1-score   support\n",
      "\n",
      "           0       0.86      0.87      0.87       166\n",
      "           1       0.79      0.76      0.77       101\n",
      "\n",
      "    accuracy                           0.83       267\n",
      "   macro avg       0.82      0.82      0.82       267\n",
      "weighted avg       0.83      0.83      0.83       267\n",
      "\n"
     ]
    }
   ],
   "source": [
    "print(confusion_matrix(y_test,predictions))\n",
    "print('\\n')\n",
    "print(classification_report(y_test,predictions))"
   ]
  },
  {
   "cell_type": "code",
   "execution_count": null,
   "metadata": {},
   "outputs": [],
   "source": []
  },
  {
   "cell_type": "code",
   "execution_count": 20,
   "metadata": {},
   "outputs": [],
   "source": [
    "from sklearn.model_selection import GridSearchCV"
   ]
  },
  {
   "cell_type": "code",
   "execution_count": 29,
   "metadata": {},
   "outputs": [
    {
     "name": "stdout",
     "output_type": "stream",
     "text": [
      "Fitting 3 folds for each of 20 candidates, totalling 60 fits\n",
      "[CV] algorithm=SAMME, learning_rate=0.01, n_estimators=50 ............\n",
      "[CV]  algorithm=SAMME, learning_rate=0.01, n_estimators=50, total=   0.1s\n",
      "[CV] algorithm=SAMME, learning_rate=0.01, n_estimators=50 ............\n"
     ]
    },
    {
     "name": "stderr",
     "output_type": "stream",
     "text": [
      "[Parallel(n_jobs=1)]: Using backend SequentialBackend with 1 concurrent workers.\n",
      "[Parallel(n_jobs=1)]: Done   1 out of   1 | elapsed:    0.1s remaining:    0.0s\n"
     ]
    },
    {
     "name": "stdout",
     "output_type": "stream",
     "text": [
      "[CV]  algorithm=SAMME, learning_rate=0.01, n_estimators=50, total=   0.1s\n",
      "[CV] algorithm=SAMME, learning_rate=0.01, n_estimators=50 ............\n",
      "[CV]  algorithm=SAMME, learning_rate=0.01, n_estimators=50, total=   0.1s\n",
      "[CV] algorithm=SAMME, learning_rate=0.01, n_estimators=100 ...........\n",
      "[CV]  algorithm=SAMME, learning_rate=0.01, n_estimators=100, total=   0.2s\n",
      "[CV] algorithm=SAMME, learning_rate=0.01, n_estimators=100 ...........\n",
      "[CV]  algorithm=SAMME, learning_rate=0.01, n_estimators=100, total=   0.2s\n",
      "[CV] algorithm=SAMME, learning_rate=0.01, n_estimators=100 ...........\n",
      "[CV]  algorithm=SAMME, learning_rate=0.01, n_estimators=100, total=   0.2s\n",
      "[CV] algorithm=SAMME, learning_rate=0.05, n_estimators=50 ............\n",
      "[CV]  algorithm=SAMME, learning_rate=0.05, n_estimators=50, total=   0.1s\n",
      "[CV] algorithm=SAMME, learning_rate=0.05, n_estimators=50 ............\n",
      "[CV]  algorithm=SAMME, learning_rate=0.05, n_estimators=50, total=   0.2s\n",
      "[CV] algorithm=SAMME, learning_rate=0.05, n_estimators=50 ............\n",
      "[CV]  algorithm=SAMME, learning_rate=0.05, n_estimators=50, total=   0.1s\n",
      "[CV] algorithm=SAMME, learning_rate=0.05, n_estimators=100 ...........\n",
      "[CV]  algorithm=SAMME, learning_rate=0.05, n_estimators=100, total=   0.2s\n",
      "[CV] algorithm=SAMME, learning_rate=0.05, n_estimators=100 ...........\n",
      "[CV]  algorithm=SAMME, learning_rate=0.05, n_estimators=100, total=   0.2s\n",
      "[CV] algorithm=SAMME, learning_rate=0.05, n_estimators=100 ...........\n",
      "[CV]  algorithm=SAMME, learning_rate=0.05, n_estimators=100, total=   0.2s\n",
      "[CV] algorithm=SAMME, learning_rate=0.1, n_estimators=50 .............\n",
      "[CV]  algorithm=SAMME, learning_rate=0.1, n_estimators=50, total=   0.1s\n",
      "[CV] algorithm=SAMME, learning_rate=0.1, n_estimators=50 .............\n",
      "[CV]  algorithm=SAMME, learning_rate=0.1, n_estimators=50, total=   0.1s\n",
      "[CV] algorithm=SAMME, learning_rate=0.1, n_estimators=50 .............\n",
      "[CV]  algorithm=SAMME, learning_rate=0.1, n_estimators=50, total=   0.1s\n",
      "[CV] algorithm=SAMME, learning_rate=0.1, n_estimators=100 ............\n",
      "[CV]  algorithm=SAMME, learning_rate=0.1, n_estimators=100, total=   0.2s\n",
      "[CV] algorithm=SAMME, learning_rate=0.1, n_estimators=100 ............\n",
      "[CV]  algorithm=SAMME, learning_rate=0.1, n_estimators=100, total=   0.2s\n",
      "[CV] algorithm=SAMME, learning_rate=0.1, n_estimators=100 ............\n",
      "[CV]  algorithm=SAMME, learning_rate=0.1, n_estimators=100, total=   0.2s\n",
      "[CV] algorithm=SAMME, learning_rate=0.3, n_estimators=50 .............\n",
      "[CV]  algorithm=SAMME, learning_rate=0.3, n_estimators=50, total=   0.2s\n",
      "[CV] algorithm=SAMME, learning_rate=0.3, n_estimators=50 .............\n",
      "[CV]  algorithm=SAMME, learning_rate=0.3, n_estimators=50, total=   0.1s\n",
      "[CV] algorithm=SAMME, learning_rate=0.3, n_estimators=50 .............\n",
      "[CV]  algorithm=SAMME, learning_rate=0.3, n_estimators=50, total=   0.1s\n",
      "[CV] algorithm=SAMME, learning_rate=0.3, n_estimators=100 ............\n",
      "[CV]  algorithm=SAMME, learning_rate=0.3, n_estimators=100, total=   0.3s\n",
      "[CV] algorithm=SAMME, learning_rate=0.3, n_estimators=100 ............\n",
      "[CV]  algorithm=SAMME, learning_rate=0.3, n_estimators=100, total=   0.2s\n",
      "[CV] algorithm=SAMME, learning_rate=0.3, n_estimators=100 ............\n",
      "[CV]  algorithm=SAMME, learning_rate=0.3, n_estimators=100, total=   0.3s\n",
      "[CV] algorithm=SAMME, learning_rate=1, n_estimators=50 ...............\n",
      "[CV]  algorithm=SAMME, learning_rate=1, n_estimators=50, total=   0.1s\n",
      "[CV] algorithm=SAMME, learning_rate=1, n_estimators=50 ...............\n",
      "[CV]  algorithm=SAMME, learning_rate=1, n_estimators=50, total=   0.1s\n",
      "[CV] algorithm=SAMME, learning_rate=1, n_estimators=50 ...............\n",
      "[CV]  algorithm=SAMME, learning_rate=1, n_estimators=50, total=   0.1s\n",
      "[CV] algorithm=SAMME, learning_rate=1, n_estimators=100 ..............\n",
      "[CV]  algorithm=SAMME, learning_rate=1, n_estimators=100, total=   0.2s\n",
      "[CV] algorithm=SAMME, learning_rate=1, n_estimators=100 ..............\n",
      "[CV]  algorithm=SAMME, learning_rate=1, n_estimators=100, total=   0.3s\n",
      "[CV] algorithm=SAMME, learning_rate=1, n_estimators=100 ..............\n",
      "[CV]  algorithm=SAMME, learning_rate=1, n_estimators=100, total=   0.3s\n",
      "[CV] algorithm=SAMME.R, learning_rate=0.01, n_estimators=50 ..........\n",
      "[CV]  algorithm=SAMME.R, learning_rate=0.01, n_estimators=50, total=   0.1s\n",
      "[CV] algorithm=SAMME.R, learning_rate=0.01, n_estimators=50 ..........\n",
      "[CV]  algorithm=SAMME.R, learning_rate=0.01, n_estimators=50, total=   0.1s\n",
      "[CV] algorithm=SAMME.R, learning_rate=0.01, n_estimators=50 ..........\n",
      "[CV]  algorithm=SAMME.R, learning_rate=0.01, n_estimators=50, total=   0.1s\n",
      "[CV] algorithm=SAMME.R, learning_rate=0.01, n_estimators=100 .........\n",
      "[CV]  algorithm=SAMME.R, learning_rate=0.01, n_estimators=100, total=   0.3s\n",
      "[CV] algorithm=SAMME.R, learning_rate=0.01, n_estimators=100 .........\n",
      "[CV]  algorithm=SAMME.R, learning_rate=0.01, n_estimators=100, total=   0.2s\n",
      "[CV] algorithm=SAMME.R, learning_rate=0.01, n_estimators=100 .........\n",
      "[CV]  algorithm=SAMME.R, learning_rate=0.01, n_estimators=100, total=   0.2s\n",
      "[CV] algorithm=SAMME.R, learning_rate=0.05, n_estimators=50 ..........\n",
      "[CV]  algorithm=SAMME.R, learning_rate=0.05, n_estimators=50, total=   0.1s\n",
      "[CV] algorithm=SAMME.R, learning_rate=0.05, n_estimators=50 ..........\n",
      "[CV]  algorithm=SAMME.R, learning_rate=0.05, n_estimators=50, total=   0.1s\n",
      "[CV] algorithm=SAMME.R, learning_rate=0.05, n_estimators=50 ..........\n",
      "[CV]  algorithm=SAMME.R, learning_rate=0.05, n_estimators=50, total=   0.1s\n",
      "[CV] algorithm=SAMME.R, learning_rate=0.05, n_estimators=100 .........\n",
      "[CV]  algorithm=SAMME.R, learning_rate=0.05, n_estimators=100, total=   0.2s\n",
      "[CV] algorithm=SAMME.R, learning_rate=0.05, n_estimators=100 .........\n",
      "[CV]  algorithm=SAMME.R, learning_rate=0.05, n_estimators=100, total=   0.2s\n",
      "[CV] algorithm=SAMME.R, learning_rate=0.05, n_estimators=100 .........\n",
      "[CV]  algorithm=SAMME.R, learning_rate=0.05, n_estimators=100, total=   0.2s\n",
      "[CV] algorithm=SAMME.R, learning_rate=0.1, n_estimators=50 ...........\n",
      "[CV]  algorithm=SAMME.R, learning_rate=0.1, n_estimators=50, total=   0.1s\n",
      "[CV] algorithm=SAMME.R, learning_rate=0.1, n_estimators=50 ...........\n",
      "[CV]  algorithm=SAMME.R, learning_rate=0.1, n_estimators=50, total=   0.1s\n",
      "[CV] algorithm=SAMME.R, learning_rate=0.1, n_estimators=50 ...........\n",
      "[CV]  algorithm=SAMME.R, learning_rate=0.1, n_estimators=50, total=   0.1s\n",
      "[CV] algorithm=SAMME.R, learning_rate=0.1, n_estimators=100 ..........\n",
      "[CV]  algorithm=SAMME.R, learning_rate=0.1, n_estimators=100, total=   0.2s\n",
      "[CV] algorithm=SAMME.R, learning_rate=0.1, n_estimators=100 ..........\n",
      "[CV]  algorithm=SAMME.R, learning_rate=0.1, n_estimators=100, total=   0.2s\n",
      "[CV] algorithm=SAMME.R, learning_rate=0.1, n_estimators=100 ..........\n",
      "[CV]  algorithm=SAMME.R, learning_rate=0.1, n_estimators=100, total=   0.2s\n",
      "[CV] algorithm=SAMME.R, learning_rate=0.3, n_estimators=50 ...........\n",
      "[CV]  algorithm=SAMME.R, learning_rate=0.3, n_estimators=50, total=   0.1s\n",
      "[CV] algorithm=SAMME.R, learning_rate=0.3, n_estimators=50 ...........\n",
      "[CV]  algorithm=SAMME.R, learning_rate=0.3, n_estimators=50, total=   0.1s\n",
      "[CV] algorithm=SAMME.R, learning_rate=0.3, n_estimators=50 ...........\n",
      "[CV]  algorithm=SAMME.R, learning_rate=0.3, n_estimators=50, total=   0.1s\n",
      "[CV] algorithm=SAMME.R, learning_rate=0.3, n_estimators=100 ..........\n",
      "[CV]  algorithm=SAMME.R, learning_rate=0.3, n_estimators=100, total=   0.2s\n",
      "[CV] algorithm=SAMME.R, learning_rate=0.3, n_estimators=100 ..........\n",
      "[CV]  algorithm=SAMME.R, learning_rate=0.3, n_estimators=100, total=   0.2s\n",
      "[CV] algorithm=SAMME.R, learning_rate=0.3, n_estimators=100 ..........\n",
      "[CV]  algorithm=SAMME.R, learning_rate=0.3, n_estimators=100, total=   0.2s\n",
      "[CV] algorithm=SAMME.R, learning_rate=1, n_estimators=50 .............\n",
      "[CV]  algorithm=SAMME.R, learning_rate=1, n_estimators=50, total=   0.1s\n",
      "[CV] algorithm=SAMME.R, learning_rate=1, n_estimators=50 .............\n",
      "[CV]  algorithm=SAMME.R, learning_rate=1, n_estimators=50, total=   0.1s\n",
      "[CV] algorithm=SAMME.R, learning_rate=1, n_estimators=50 .............\n",
      "[CV]  algorithm=SAMME.R, learning_rate=1, n_estimators=50, total=   0.1s\n",
      "[CV] algorithm=SAMME.R, learning_rate=1, n_estimators=100 ............\n",
      "[CV]  algorithm=SAMME.R, learning_rate=1, n_estimators=100, total=   0.2s\n",
      "[CV] algorithm=SAMME.R, learning_rate=1, n_estimators=100 ............\n"
     ]
    },
    {
     "name": "stdout",
     "output_type": "stream",
     "text": [
      "[CV]  algorithm=SAMME.R, learning_rate=1, n_estimators=100, total=   0.2s\n",
      "[CV] algorithm=SAMME.R, learning_rate=1, n_estimators=100 ............\n",
      "[CV]  algorithm=SAMME.R, learning_rate=1, n_estimators=100, total=   0.2s\n"
     ]
    },
    {
     "name": "stderr",
     "output_type": "stream",
     "text": [
      "[Parallel(n_jobs=1)]: Done  60 out of  60 | elapsed:   10.3s finished\n"
     ]
    },
    {
     "data": {
      "text/plain": [
       "GridSearchCV(cv=3, error_score='raise-deprecating',\n",
       "             estimator=AdaBoostClassifier(algorithm='SAMME.R',\n",
       "                                          base_estimator=None,\n",
       "                                          learning_rate=1.0, n_estimators=50,\n",
       "                                          random_state=None),\n",
       "             iid='warn', n_jobs=None,\n",
       "             param_grid={'algorithm': ['SAMME', 'SAMME.R'],\n",
       "                         'learning_rate': [0.01, 0.05, 0.1, 0.3, 1],\n",
       "                         'n_estimators': [50, 100]},\n",
       "             pre_dispatch='2*n_jobs', refit=True, return_train_score=False,\n",
       "             scoring=None, verbose=2)"
      ]
     },
     "execution_count": 29,
     "metadata": {},
     "output_type": "execute_result"
    }
   ],
   "source": [
    "param_grid = {\n",
    " 'n_estimators': [50, 100],\n",
    " 'learning_rate' : [0.01,0.05,0.1,0.3,1],\n",
    " 'algorithm' : ['SAMME', 'SAMME.R']\n",
    " }\n",
    "\n",
    "hp_clf = GridSearchCV(AdaBoostClassifier(),\n",
    "                            param_grid=param_grid,\n",
    "                            cv=3,verbose=2)\n",
    "\n",
    "hp_clf.fit(X_train, y_train)"
   ]
  },
  {
   "cell_type": "code",
   "execution_count": 30,
   "metadata": {},
   "outputs": [
    {
     "data": {
      "text/plain": [
       "{'algorithm': 'SAMME', 'learning_rate': 1, 'n_estimators': 100}"
      ]
     },
     "execution_count": 30,
     "metadata": {},
     "output_type": "execute_result"
    }
   ],
   "source": [
    "hp_clf.best_params_"
   ]
  },
  {
   "cell_type": "code",
   "execution_count": 31,
   "metadata": {},
   "outputs": [],
   "source": [
    "hp_predictions = hp_clf.predict(X_test)"
   ]
  },
  {
   "cell_type": "code",
   "execution_count": 32,
   "metadata": {},
   "outputs": [
    {
     "name": "stdout",
     "output_type": "stream",
     "text": [
      "[[145  21]\n",
      " [ 24  77]]\n",
      "\n",
      "\n",
      "              precision    recall  f1-score   support\n",
      "\n",
      "           0       0.86      0.87      0.87       166\n",
      "           1       0.79      0.76      0.77       101\n",
      "\n",
      "    accuracy                           0.83       267\n",
      "   macro avg       0.82      0.82      0.82       267\n",
      "weighted avg       0.83      0.83      0.83       267\n",
      "\n"
     ]
    }
   ],
   "source": [
    "#Original Model\n",
    "print(confusion_matrix(y_test,predictions))\n",
    "print('\\n')\n",
    "print(classification_report(y_test,predictions))"
   ]
  },
  {
   "cell_type": "code",
   "execution_count": 33,
   "metadata": {},
   "outputs": [
    {
     "name": "stdout",
     "output_type": "stream",
     "text": [
      "[[147  19]\n",
      " [ 27  74]]\n",
      "\n",
      "\n",
      "              precision    recall  f1-score   support\n",
      "\n",
      "           0       0.84      0.89      0.86       166\n",
      "           1       0.80      0.73      0.76       101\n",
      "\n",
      "    accuracy                           0.83       267\n",
      "   macro avg       0.82      0.81      0.81       267\n",
      "weighted avg       0.83      0.83      0.83       267\n",
      "\n"
     ]
    }
   ],
   "source": [
    "#Hyperparameter Tuned Model\n",
    "print(confusion_matrix(y_test,hp_predictions))\n",
    "print('\\n')\n",
    "print(classification_report(y_test,hp_predictions))"
   ]
  },
  {
   "cell_type": "code",
   "execution_count": null,
   "metadata": {},
   "outputs": [],
   "source": []
  }
 ],
 "metadata": {
  "kernelspec": {
   "display_name": "Python 3",
   "language": "python",
   "name": "python3"
  },
  "language_info": {
   "codemirror_mode": {
    "name": "ipython",
    "version": 3
   },
   "file_extension": ".py",
   "mimetype": "text/x-python",
   "name": "python",
   "nbconvert_exporter": "python",
   "pygments_lexer": "ipython3",
   "version": "3.7.4"
  }
 },
 "nbformat": 4,
 "nbformat_minor": 2
}
